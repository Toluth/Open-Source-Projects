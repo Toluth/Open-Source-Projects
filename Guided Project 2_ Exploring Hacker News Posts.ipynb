{
 "cells": [
  {
   "cell_type": "markdown",
   "metadata": {
    "collapsed": true
   },
   "source": [
    "## Analysis of Hacker News Posts\n",
    "\n",
    "[Hacker News](https://news.ycombinator.com/) is a site started by Y combinator, where user-submitted stories known as posts are voted and commented upon.\n",
    "\n",
    "The project aims to analyse the posts and comments on Hacker News with the objective to answer the following queestions.\n",
    "\n",
    "1. Do Ask HN or Show HN receive more comment on average?\n",
    "2. Do post created at a certain time receive more comment on average?\n",
    "\n",
    "The result of this analysis will be posted and the conclusion will be found in the texts that follows."
   ]
  },
  {
   "cell_type": "code",
   "execution_count": 1,
   "metadata": {
    "scrolled": true
   },
   "outputs": [
    {
     "name": "stdout",
     "output_type": "stream",
     "text": [
      "['id', 'title', 'url', 'num_points', 'num_comments', 'author', 'created_at']\n",
      "\n",
      "\n",
      "[['12224879', 'Interactive Dynamic Video', 'http://www.interactivedynamicvideo.com/', '386', '52', 'ne0phyte', '8/4/2016 11:52'], ['10975351', 'How to Use Open Source and Shut the Fuck Up at the Same Time', 'http://hueniverse.com/2016/01/26/how-to-use-open-source-and-shut-the-fuck-up-at-the-same-time/', '39', '10', 'josep2', '1/26/2016 19:30'], ['11964716', \"Florida DJs May Face Felony for April Fools' Water Joke\", 'http://www.thewire.com/entertainment/2013/04/florida-djs-april-fools-water-joke/63798/', '2', '1', 'vezycash', '6/23/2016 22:20'], ['11919867', 'Technology ventures: From Idea to Enterprise', 'https://www.amazon.com/Technology-Ventures-Enterprise-Thomas-Byers/dp/0073523429', '3', '1', 'hswarna', '6/17/2016 0:01'], ['10301696', 'Note by Note: The Making of Steinway L1037 (2007)', 'http://www.nytimes.com/2007/11/07/movies/07stein.html?_r=0', '8', '2', 'walterbell', '9/30/2015 4:12']]"
     ]
    }
   ],
   "source": [
    "opened_file = open(\"hacker_news.csv\")\n",
    "from csv import reader\n",
    "read_file = reader(opened_file)\n",
    "hn = list(read_file)\n",
    "headers = hn[0]\n",
    "hn = hn[1:]\n",
    "\n",
    "print(headers)\n",
    "print(\"\\n\")\n",
    "print(hn[:5], end = \"\")"
   ]
  },
  {
   "cell_type": "code",
   "execution_count": 2,
   "metadata": {},
   "outputs": [
    {
     "name": "stdout",
     "output_type": "stream",
     "text": [
      "20100\n"
     ]
    }
   ],
   "source": [
    "print(len(hn))"
   ]
  },
  {
   "cell_type": "code",
   "execution_count": 3,
   "metadata": {},
   "outputs": [
    {
     "name": "stdout",
     "output_type": "stream",
     "text": [
      "1744\n",
      "1162\n",
      "17194\n"
     ]
    }
   ],
   "source": [
    "ask_posts = []\n",
    "show_posts = []\n",
    "other_posts = []\n",
    "\n",
    "for row in hn:\n",
    "    title = row[1]\n",
    "    if title.lower().startswith('ask hn'):\n",
    "        ask_posts.append(row)\n",
    "    elif title.lower().startswith('show hn'):\n",
    "        show_posts.append(row)\n",
    "    else:\n",
    "        other_posts.append(row)\n",
    "\n",
    "print(len(ask_posts))\n",
    "print(len(show_posts))\n",
    "print(len(other_posts))"
   ]
  },
  {
   "cell_type": "code",
   "execution_count": 4,
   "metadata": {},
   "outputs": [
    {
     "name": "stdout",
     "output_type": "stream",
     "text": [
      "[['12296411', 'Ask HN: How to improve my personal website?', '', '2', '6', 'ahmedbaracat', '8/16/2016 9:55'], ['10610020', 'Ask HN: Am I the only one outraged by Twitter shutting down share counts?', '', '28', '29', 'tkfx', '11/22/2015 13:43']]\n"
     ]
    }
   ],
   "source": [
    "print(ask_posts[:2])"
   ]
  },
  {
   "cell_type": "code",
   "execution_count": 5,
   "metadata": {},
   "outputs": [
    {
     "name": "stdout",
     "output_type": "stream",
     "text": [
      "14.038417431192661\n",
      "10.31669535283993\n"
     ]
    }
   ],
   "source": [
    "total_ask_comments = 0\n",
    "for row in ask_posts:\n",
    "    comment = int(row[4])\n",
    "    total_ask_comments+=comment\n",
    "    \n",
    "avg_ask_comments = total_ask_comments / len(ask_posts)\n",
    "print(avg_ask_comments)\n",
    "\n",
    "total_show_comments = []\n",
    "for row in show_posts:\n",
    "    show_comment = int(row[4])\n",
    "    total_show_comments.append(show_comment)\n",
    "\n",
    "avg_show_comments = sum(total_show_comments)/ len(total_show_comments)\n",
    "\n",
    "print(avg_show_comments)\n",
    "    "
   ]
  },
  {
   "cell_type": "markdown",
   "metadata": {},
   "source": [
    "The average number of comments on `ASK HN` is 14 while the average number of coomments on `SHOW HN` is 10.3. \n",
    "\n",
    "To answer the first part of our analysis, `ASK HN` receives more comment on average than `SHOW HN` posts."
   ]
  },
  {
   "cell_type": "code",
   "execution_count": 6,
   "metadata": {},
   "outputs": [
    {
     "name": "stdout",
     "output_type": "stream",
     "text": [
      "{'20': 1722, '13': 1253, '14': 1416, '05': 464, '22': 479, '08': 492, '10': 793, '04': 337, '16': 1814, '02': 1381, '15': 4477, '21': 1745, '00': 447, '03': 421, '07': 267, '12': 687, '06': 397, '19': 1188, '18': 1439, '17': 1146, '23': 543, '11': 641, '01': 683, '09': 251}\n",
      "{'20': 80, '13': 85, '14': 107, '05': 46, '22': 71, '08': 48, '10': 59, '04': 47, '16': 108, '02': 58, '15': 116, '21': 109, '00': 55, '03': 54, '07': 34, '12': 73, '06': 44, '19': 110, '18': 109, '17': 100, '23': 68, '11': 58, '01': 60, '09': 45}\n"
     ]
    }
   ],
   "source": [
    "import datetime as dt\n",
    "\n",
    "result_list = []\n",
    "\n",
    "for row in ask_posts:\n",
    "    time_created = row[6]\n",
    "    comment = int(row[4])\n",
    "    result_list.append([time_created, comment])\n",
    "\n",
    "counts_by_hour = {}\n",
    "comments_by_hour = {}\n",
    "\n",
    "for row in result_list:\n",
    "    posts_date = dt.datetime.strptime(row[0], \"%m/%d/%Y %H:%M\")\n",
    "    posts_hour = posts_date.strftime(\"%H\")\n",
    "    comment = row[1]\n",
    "    if posts_hour not in counts_by_hour:\n",
    "        counts_by_hour[posts_hour] = 1\n",
    "        comments_by_hour[posts_hour] = comment\n",
    "    else:\n",
    "        counts_by_hour[posts_hour] += 1\n",
    "        comments_by_hour[posts_hour] += comment\n",
    "\n",
    "print(comments_by_hour)\n",
    "print(counts_by_hour)"
   ]
  },
  {
   "cell_type": "code",
   "execution_count": 7,
   "metadata": {},
   "outputs": [
    {
     "name": "stdout",
     "output_type": "stream",
     "text": [
      "[['8/16/2016 9:55', 6], ['11/22/2015 13:43', 29], ['5/2/2016 10:14', 1], ['8/2/2016 14:20', 3], ['10/15/2015 16:38', 17]]\n"
     ]
    }
   ],
   "source": [
    "print(result_list[:5])"
   ]
  },
  {
   "cell_type": "code",
   "execution_count": 8,
   "metadata": {},
   "outputs": [
    {
     "name": "stdout",
     "output_type": "stream",
     "text": [
      "1744\n"
     ]
    }
   ],
   "source": [
    "total_posts = 0\n",
    "for post in counts_by_hour:\n",
    "    sum_num = counts_by_hour[post]\n",
    "    total_posts +=sum_num\n",
    "print(total_posts)"
   ]
  },
  {
   "cell_type": "code",
   "execution_count": 9,
   "metadata": {},
   "outputs": [
    {
     "name": "stdout",
     "output_type": "stream",
     "text": [
      "24483\n"
     ]
    }
   ],
   "source": [
    "total_comments = 0\n",
    "for post in comments_by_hour:\n",
    "    sum_num = comments_by_hour[post]\n",
    "    total_comments +=sum_num\n",
    "print(total_comments)"
   ]
  },
  {
   "cell_type": "code",
   "execution_count": 10,
   "metadata": {},
   "outputs": [
    {
     "name": "stdout",
     "output_type": "stream",
     "text": [
      "14.038417431192661\n"
     ]
    }
   ],
   "source": [
    "average_placeholder_for_comment = total_comments/total_posts\n",
    "print(average_placeholder_for_comment)"
   ]
  },
  {
   "cell_type": "code",
   "execution_count": 11,
   "metadata": {},
   "outputs": [
    {
     "name": "stdout",
     "output_type": "stream",
     "text": [
      "[['20', 21.525], ['13', 14.741176470588234], ['14', 13.233644859813085], ['05', 10.08695652173913], ['22', 6.746478873239437], ['08', 10.25], ['10', 13.440677966101696], ['04', 7.170212765957447], ['16', 16.796296296296298], ['02', 23.810344827586206], ['15', 38.5948275862069], ['21', 16.009174311926607], ['00', 8.127272727272727], ['03', 7.796296296296297], ['07', 7.852941176470588], ['12', 9.41095890410959], ['06', 9.022727272727273], ['19', 10.8], ['18', 13.20183486238532], ['17', 11.46], ['23', 7.985294117647059], ['11', 11.051724137931034], ['01', 11.383333333333333], ['09', 5.5777777777777775]]\n"
     ]
    }
   ],
   "source": [
    "avg_by_hour = []\n",
    "for hour in comments_by_hour:\n",
    "    avg = comments_by_hour[hour]/ counts_by_hour[hour]\n",
    "    avg_by_hour.append([hour, avg])\n",
    "\n",
    "print(avg_by_hour)\n",
    "\n",
    "    \n",
    "    \n",
    "    "
   ]
  },
  {
   "cell_type": "code",
   "execution_count": 12,
   "metadata": {},
   "outputs": [
    {
     "name": "stdout",
     "output_type": "stream",
     "text": [
      "[[21.525, '20'], [14.741176470588234, '13'], [13.233644859813085, '14'], [10.08695652173913, '05'], [6.746478873239437, '22'], [10.25, '08'], [13.440677966101696, '10'], [7.170212765957447, '04'], [16.796296296296298, '16'], [23.810344827586206, '02'], [38.5948275862069, '15'], [16.009174311926607, '21'], [8.127272727272727, '00'], [7.796296296296297, '03'], [7.852941176470588, '07'], [9.41095890410959, '12'], [9.022727272727273, '06'], [10.8, '19'], [13.20183486238532, '18'], [11.46, '17'], [7.985294117647059, '23'], [11.051724137931034, '11'], [11.383333333333333, '01'], [5.5777777777777775, '09']]\n"
     ]
    },
    {
     "data": {
      "text/plain": [
       "[[38.5948275862069, '15'],\n",
       " [23.810344827586206, '02'],\n",
       " [21.525, '20'],\n",
       " [16.796296296296298, '16'],\n",
       " [16.009174311926607, '21'],\n",
       " [14.741176470588234, '13'],\n",
       " [13.440677966101696, '10'],\n",
       " [13.233644859813085, '14'],\n",
       " [13.20183486238532, '18'],\n",
       " [11.46, '17'],\n",
       " [11.383333333333333, '01'],\n",
       " [11.051724137931034, '11'],\n",
       " [10.8, '19'],\n",
       " [10.25, '08'],\n",
       " [10.08695652173913, '05'],\n",
       " [9.41095890410959, '12'],\n",
       " [9.022727272727273, '06'],\n",
       " [8.127272727272727, '00'],\n",
       " [7.985294117647059, '23'],\n",
       " [7.852941176470588, '07'],\n",
       " [7.796296296296297, '03'],\n",
       " [7.170212765957447, '04'],\n",
       " [6.746478873239437, '22'],\n",
       " [5.5777777777777775, '09']]"
      ]
     },
     "execution_count": 12,
     "metadata": {},
     "output_type": "execute_result"
    }
   ],
   "source": [
    "swap_avg_by_hour = []\n",
    "for element in avg_by_hour:\n",
    "    swap_avg_by_hour.append([element[1], element[0]])\n",
    "print(swap_avg_by_hour)\n",
    "\n",
    "sorted_swap = sorted(swap_avg_by_hour, reverse = True)\n",
    "sorted_swap\n",
    "\n",
    "\n",
    "\n"
   ]
  },
  {
   "cell_type": "code",
   "execution_count": 13,
   "metadata": {},
   "outputs": [
    {
     "name": "stdout",
     "output_type": "stream",
     "text": [
      "Top 5 Hours for Ask Posts Comments\n",
      "15:00: 38.59 average comments per post\n",
      "02:00: 23.81 average comments per post\n",
      "20:00: 21.52 average comments per post\n",
      "16:00: 16.80 average comments per post\n",
      "21:00: 16.01 average comments per post\n"
     ]
    }
   ],
   "source": [
    "print(\"Top 5 Hours for Ask Posts Comments\")\n",
    "\n",
    "template = \"{}: {:.2f} average comments per post\"\n",
    "\n",
    "for row in sorted_swap[:5]:\n",
    "    hour_str = dt.datetime.strptime(row[1], \"%H\")\n",
    "    hour = hour_str.strftime(\"%H:%M\")\n",
    "    comment = row[0]\n",
    "    output = template.format(hour, comment)\n",
    "    print(output)"
   ]
  },
  {
   "cell_type": "code",
   "execution_count": 14,
   "metadata": {},
   "outputs": [
    {
     "data": {
      "text/plain": [
       "'70.68%'"
      ]
     },
     "execution_count": 14,
     "metadata": {},
     "output_type": "execute_result"
    }
   ],
   "source": [
    "fiften_hour = 38.59\n",
    "twenty_one_hour = 16.01\n",
    "total = fiften_hour + twenty_one_hour\n",
    "percentage = fiften_hour/total * 100\n",
    "\"{:.2f}%\".format(percentage)"
   ]
  },
  {
   "cell_type": "markdown",
   "metadata": {},
   "source": [
    "From above, we see that posts created at 15:00 which equates to 21:00 CEST receives more comments than any other hour. Based on our analysis, posts created at this hour would receive 70% more comments than posts created at 03:00 CEST."
   ]
  },
  {
   "cell_type": "markdown",
   "metadata": {},
   "source": [
    "## Conclusion\n",
    "\n",
    "In this study, we analyzed the analyse the posts and comments on Hacker News with the objective to answer the following queestions.\n",
    "\n",
    "Having cleaned our data, leaving us with only posts that have at least one comment, we found that on average, posts with `ASK HN` receive more comments that posts with starts with `SHOW HN`.\n",
    "\n",
    "We also found that out of the posts that starts with `ASK HN`, the best time to post with high average number of comments is at 21:00 CEST."
   ]
  }
 ],
 "metadata": {
  "kernelspec": {
   "display_name": "Python 3",
   "language": "python",
   "name": "python3"
  },
  "language_info": {
   "codemirror_mode": {
    "name": "ipython",
    "version": 3
   },
   "file_extension": ".py",
   "mimetype": "text/x-python",
   "name": "python",
   "nbconvert_exporter": "python",
   "pygments_lexer": "ipython3",
   "version": "3.7.6"
  }
 },
 "nbformat": 4,
 "nbformat_minor": 2
}
